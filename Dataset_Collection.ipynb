{
 "cells": [
  {
   "cell_type": "code",
   "execution_count": 1,
   "metadata": {
    "ExecuteTime": {
     "end_time": "2019-08-06T16:20:28.384637Z",
     "start_time": "2019-08-06T16:20:28.145326Z"
    }
   },
   "outputs": [],
   "source": [
    "import os\n",
    "import cv2\n",
    "import numpy as np\n",
    "from tqdm import tqdm"
   ]
  },
  {
   "cell_type": "code",
   "execution_count": null,
   "metadata": {
    "ExecuteTime": {
     "end_time": "2019-08-04T17:06:35.009806Z",
     "start_time": "2019-08-04T17:06:34.317Z"
    }
   },
   "outputs": [],
   "source": [
    "os.listdir('Dataset')"
   ]
  },
  {
   "cell_type": "code",
   "execution_count": 2,
   "metadata": {
    "ExecuteTime": {
     "end_time": "2019-08-04T17:06:35.571399Z",
     "start_time": "2019-08-04T17:06:35.567603Z"
    }
   },
   "outputs": [],
   "source": [
    "FINAL = 'final/'\n",
    "total = 1"
   ]
  },
  {
   "cell_type": "code",
   "execution_count": 3,
   "metadata": {
    "ExecuteTime": {
     "end_time": "2019-08-04T17:15:38.690849Z",
     "start_time": "2019-08-04T17:06:39.262997Z"
    }
   },
   "outputs": [
    {
     "name": "stderr",
     "output_type": "stream",
     "text": [
      "100%|██████████| 12929/12929 [00:22<00:00, 565.39it/s]\n",
      "100%|██████████| 8081/8081 [00:13<00:00, 589.61it/s]\n",
      "100%|██████████| 16276/16276 [00:27<00:00, 589.63it/s]\n",
      "100%|██████████| 14795/14795 [00:24<00:00, 614.92it/s]\n",
      "100%|██████████| 3683/3683 [00:05<00:00, 618.40it/s]\n",
      "100%|██████████| 1321/1321 [00:02<00:00, 597.82it/s]\n",
      "100%|██████████| 7780/7780 [00:12<00:00, 599.56it/s]\n",
      "100%|██████████| 7674/7674 [00:12<00:00, 615.52it/s]\n",
      "100%|██████████| 22062/22062 [00:36<00:00, 610.81it/s]\n",
      "100%|██████████| 1546/1546 [00:02<00:00, 621.43it/s]\n",
      "100%|██████████| 12374/12374 [00:21<00:00, 582.70it/s]\n",
      "100%|██████████| 4727/4727 [00:07<00:00, 603.65it/s]\n",
      "100%|██████████| 7565/7565 [00:12<00:00, 582.40it/s]\n",
      "100%|██████████| 1592/1592 [00:02<00:00, 592.17it/s]\n",
      "100%|██████████| 6212/6212 [00:10<00:00, 598.96it/s]\n",
      "100%|██████████| 5527/5527 [00:09<00:00, 610.63it/s]\n",
      "100%|██████████| 2538/2538 [00:04<00:00, 627.09it/s]\n",
      "100%|██████████| 461/461 [00:00<00:00, 563.48it/s]\n",
      "100%|██████████| 1400/1400 [00:02<00:00, 595.82it/s]\n",
      "100%|██████████| 21016/21016 [00:34<00:00, 601.57it/s]\n",
      "100%|██████████| 4188/4188 [00:06<00:00, 622.07it/s]\n",
      "100%|██████████| 1170/1170 [00:01<00:00, 619.81it/s]\n",
      "100%|██████████| 13655/13655 [00:22<00:00, 603.68it/s]\n",
      "100%|██████████| 3006/3006 [00:04<00:00, 607.88it/s]\n",
      "100%|██████████| 2596/2596 [00:04<00:00, 606.96it/s]\n",
      "100%|██████████| 489/489 [00:00<00:00, 620.45it/s]\n",
      "100%|██████████| 134/134 [00:00<00:00, 647.44it/s]\n",
      "100%|██████████| 116/116 [00:00<00:00, 555.16it/s]\n",
      "100%|██████████| 122/122 [00:00<00:00, 654.06it/s]\n",
      "100%|██████████| 136/136 [00:00<00:00, 569.21it/s]\n",
      "100%|██████████| 109/109 [00:00<00:00, 579.24it/s]\n",
      "100%|██████████| 131/131 [00:00<00:00, 642.10it/s]\n",
      "100%|██████████| 124/124 [00:00<00:00, 682.40it/s]\n",
      "100%|██████████| 144/144 [00:00<00:00, 545.26it/s]\n",
      "100%|██████████| 133/133 [00:00<00:00, 701.88it/s]\n",
      "100%|██████████| 144/144 [00:00<00:00, 620.58it/s]\n",
      "100%|██████████| 126/126 [00:00<00:00, 602.84it/s]\n",
      "100%|██████████| 137/137 [00:00<00:00, 662.41it/s]\n",
      "100%|██████████| 70/70 [00:00<00:00, 777.34it/s]\n",
      "100%|██████████| 147/147 [00:00<00:00, 734.82it/s]\n",
      "100%|██████████| 157/157 [00:00<00:00, 617.72it/s]\n",
      "100%|██████████| 143/143 [00:00<00:00, 610.69it/s]\n",
      "100%|██████████| 121/121 [00:00<00:00, 558.08it/s]\n",
      "100%|██████████| 140/140 [00:00<00:00, 565.68it/s]\n",
      "100%|██████████| 140/140 [00:00<00:00, 581.78it/s]\n",
      "100%|██████████| 125/125 [00:00<00:00, 601.46it/s]\n",
      "100%|██████████| 111/111 [00:00<00:00, 580.62it/s]\n",
      "100%|██████████| 129/129 [00:00<00:00, 567.40it/s]\n",
      "100%|██████████| 161/161 [00:00<00:00, 581.02it/s]\n",
      "100%|██████████| 129/129 [00:00<00:00, 621.36it/s]\n",
      "100%|██████████| 157/157 [00:00<00:00, 633.94it/s]\n",
      "100%|██████████| 121/121 [00:00<00:00, 653.93it/s]\n",
      "100%|██████████| 133/133 [00:00<00:00, 254.61it/s]\n",
      "100%|██████████| 146/146 [00:00<00:00, 581.44it/s]\n",
      "100%|██████████| 157/157 [00:00<00:00, 574.02it/s]\n",
      "100%|██████████| 128/128 [00:00<00:00, 605.46it/s]\n",
      "100%|██████████| 126/126 [00:00<00:00, 531.59it/s]\n",
      "100%|██████████| 154/154 [00:00<00:00, 556.35it/s]\n",
      "100%|██████████| 101/101 [00:00<00:00, 540.43it/s]\n",
      "100%|██████████| 130/130 [00:00<00:00, 549.74it/s]\n",
      "100%|██████████| 132/132 [00:00<00:00, 604.49it/s]\n",
      "100%|██████████| 159/159 [00:00<00:00, 657.82it/s]\n",
      "100%|██████████| 86/86 [00:00<00:00, 663.54it/s]\n",
      "100%|██████████| 91/91 [00:00<00:00, 544.49it/s]\n",
      "100%|██████████| 76/76 [00:00<00:00, 669.98it/s]\n",
      "100%|██████████| 81/81 [00:00<00:00, 659.24it/s]\n",
      "100%|██████████| 133/133 [00:00<00:00, 599.89it/s]\n",
      "100%|██████████| 98/98 [00:00<00:00, 722.61it/s]\n",
      "100%|██████████| 99/99 [00:00<00:00, 606.21it/s]\n",
      "100%|██████████| 91/91 [00:00<00:00, 602.93it/s]\n",
      "100%|██████████| 96/96 [00:00<00:00, 542.74it/s]\n",
      "100%|██████████| 123/123 [00:00<00:00, 587.71it/s]\n",
      "100%|██████████| 73/73 [00:00<00:00, 608.97it/s]\n",
      "100%|██████████| 107/107 [00:00<00:00, 568.37it/s]\n",
      "100%|██████████| 122/122 [00:00<00:00, 562.22it/s]\n",
      "100%|██████████| 103/103 [00:00<00:00, 563.81it/s]\n",
      "100%|██████████| 91/91 [00:00<00:00, 561.18it/s]\n",
      "100%|██████████| 139/139 [00:00<00:00, 626.61it/s]\n",
      "100%|██████████| 92/92 [00:00<00:00, 690.24it/s]\n",
      "100%|██████████| 102/102 [00:00<00:00, 631.61it/s]\n",
      "100%|██████████| 116/116 [00:00<00:00, 600.77it/s]\n",
      "100%|██████████| 75/75 [00:00<00:00, 570.67it/s]\n",
      "100%|██████████| 106/106 [00:00<00:00, 614.28it/s]\n",
      "100%|██████████| 139/139 [00:00<00:00, 604.04it/s]\n",
      "100%|██████████| 62/62 [00:00<00:00, 585.49it/s]\n",
      "100%|██████████| 114/114 [00:00<00:00, 727.11it/s]\n",
      "100%|██████████| 111/111 [00:00<00:00, 576.91it/s]\n",
      "100%|██████████| 138/138 [00:00<00:00, 649.66it/s]\n",
      "100%|██████████| 1016/1016 [00:01<00:00, 694.65it/s]\n",
      "100%|██████████| 1016/1016 [00:01<00:00, 673.44it/s]\n",
      "100%|██████████| 1016/1016 [00:01<00:00, 610.14it/s]\n",
      "100%|██████████| 1016/1016 [00:01<00:00, 627.80it/s]\n",
      "100%|██████████| 1016/1016 [00:01<00:00, 597.11it/s]\n",
      "100%|██████████| 1016/1016 [00:01<00:00, 605.96it/s]\n",
      "100%|██████████| 1016/1016 [00:01<00:00, 623.27it/s]\n",
      "100%|██████████| 1016/1016 [00:01<00:00, 631.00it/s]\n",
      "100%|██████████| 1016/1016 [00:01<00:00, 575.40it/s]\n",
      "100%|██████████| 1016/1016 [00:01<00:00, 630.24it/s]\n",
      "100%|██████████| 1052/1052 [00:01<00:00, 607.44it/s]\n",
      "100%|██████████| 1052/1052 [00:01<00:00, 577.60it/s]\n",
      "100%|██████████| 1052/1052 [00:01<00:00, 654.15it/s]\n",
      "100%|██████████| 1052/1052 [00:01<00:00, 552.71it/s]\n",
      "100%|██████████| 1052/1052 [00:01<00:00, 598.14it/s]\n",
      "100%|██████████| 1052/1052 [00:01<00:00, 613.19it/s]\n",
      "100%|██████████| 1052/1052 [00:01<00:00, 619.43it/s]\n",
      "100%|██████████| 1052/1052 [00:01<00:00, 570.75it/s]\n",
      "100%|██████████| 1048/1048 [00:01<00:00, 618.08it/s]\n",
      "100%|██████████| 1052/1052 [00:01<00:00, 589.57it/s]\n",
      "100%|██████████| 1052/1052 [00:01<00:00, 605.79it/s]\n",
      "100%|██████████| 1052/1052 [00:01<00:00, 599.09it/s]\n",
      "100%|██████████| 1052/1052 [00:01<00:00, 591.59it/s]\n",
      "100%|██████████| 1052/1052 [00:01<00:00, 617.26it/s]\n",
      "100%|██████████| 1052/1052 [00:01<00:00, 596.90it/s]\n",
      "100%|██████████| 1052/1052 [00:01<00:00, 596.39it/s]\n",
      "100%|██████████| 1052/1052 [00:01<00:00, 624.67it/s]\n",
      "100%|██████████| 1052/1052 [00:01<00:00, 546.74it/s]\n",
      "100%|██████████| 1052/1052 [00:01<00:00, 605.53it/s]\n",
      "100%|██████████| 1052/1052 [00:01<00:00, 613.89it/s]\n",
      "100%|██████████| 1052/1052 [00:01<00:00, 546.90it/s]\n",
      "100%|██████████| 1052/1052 [00:01<00:00, 607.41it/s]\n",
      "100%|██████████| 1052/1052 [00:01<00:00, 604.78it/s]\n",
      "100%|██████████| 1052/1052 [00:01<00:00, 589.76it/s]\n",
      "100%|██████████| 1052/1052 [00:01<00:00, 604.23it/s]\n",
      "100%|██████████| 1052/1052 [00:01<00:00, 599.91it/s]\n",
      "100%|██████████| 972/972 [00:01<00:00, 608.92it/s]\n",
      "100%|██████████| 972/972 [00:01<00:00, 593.43it/s]\n",
      "100%|██████████| 972/972 [00:01<00:00, 596.77it/s]\n",
      "100%|██████████| 972/972 [00:01<00:00, 595.80it/s]\n",
      "100%|██████████| 972/972 [00:01<00:00, 633.16it/s]\n",
      "100%|██████████| 972/972 [00:01<00:00, 626.67it/s]\n",
      "100%|██████████| 972/972 [00:01<00:00, 587.10it/s]\n",
      "100%|██████████| 972/972 [00:01<00:00, 619.08it/s]\n",
      "100%|██████████| 976/976 [00:01<00:00, 613.63it/s]\n",
      "100%|██████████| 972/972 [00:01<00:00, 658.08it/s]\n",
      "100%|██████████| 972/972 [00:01<00:00, 583.85it/s]\n",
      "100%|██████████| 972/972 [00:01<00:00, 602.76it/s]\n",
      "100%|██████████| 972/972 [00:01<00:00, 511.08it/s]\n",
      "100%|██████████| 972/972 [00:01<00:00, 634.72it/s]\n",
      "100%|██████████| 972/972 [00:01<00:00, 587.93it/s]\n",
      "100%|██████████| 972/972 [00:01<00:00, 579.70it/s]\n",
      "100%|██████████| 972/972 [00:01<00:00, 590.32it/s]\n",
      "100%|██████████| 972/972 [00:01<00:00, 553.63it/s]\n",
      "100%|██████████| 972/972 [00:01<00:00, 722.88it/s]\n",
      "100%|██████████| 972/972 [00:01<00:00, 623.42it/s]\n",
      "100%|██████████| 972/972 [00:01<00:00, 626.50it/s]\n",
      "100%|██████████| 972/972 [00:01<00:00, 607.89it/s]\n",
      "100%|██████████| 972/972 [00:01<00:00, 613.03it/s]\n",
      "100%|██████████| 972/972 [00:01<00:00, 612.60it/s]\n",
      "100%|██████████| 972/972 [00:01<00:00, 616.78it/s]\n",
      "100%|██████████| 972/972 [00:01<00:00, 594.22it/s]\n",
      "100%|██████████| 677/677 [00:01<00:00, 590.52it/s]\n",
      "100%|██████████| 1466/1466 [00:02<00:00, 604.08it/s]\n",
      "100%|██████████| 727/727 [00:01<00:00, 608.99it/s]\n",
      "100%|██████████| 795/795 [00:01<00:00, 609.08it/s]\n",
      "100%|██████████| 763/763 [00:01<00:00, 614.76it/s]\n",
      "100%|██████████| 694/694 [00:01<00:00, 514.29it/s]\n",
      "100%|██████████| 1571/1571 [00:02<00:00, 627.17it/s]\n",
      "100%|██████████| 2281/2281 [00:03<00:00, 607.02it/s]\n",
      "100%|██████████| 5365/5365 [00:08<00:00, 608.38it/s]\n",
      "100%|██████████| 894/894 [00:01<00:00, 588.97it/s]\n",
      "100%|██████████| 190/190 [00:00<00:00, 591.20it/s]\n",
      "100%|██████████| 89/89 [00:00<00:00, 536.09it/s]\n",
      "100%|██████████| 68/68 [00:00<00:00, 607.50it/s]\n",
      "100%|██████████| 151/151 [00:00<00:00, 560.94it/s]\n",
      "100%|██████████| 87/87 [00:00<00:00, 533.17it/s]\n",
      "100%|██████████| 1031/1031 [00:01<00:00, 587.26it/s]\n",
      "100%|██████████| 91/91 [00:00<00:00, 607.59it/s]\n",
      "100%|██████████| 348/348 [00:00<00:00, 576.74it/s]\n",
      "100%|██████████| 274/274 [00:00<00:00, 571.14it/s]\n",
      "100%|██████████| 199/199 [00:00<00:00, 574.20it/s]\n",
      "100%|██████████| 110/110 [00:00<00:00, 572.65it/s]\n",
      "100%|██████████| 101/101 [00:00<00:00, 568.26it/s]\n",
      "100%|██████████| 117/117 [00:00<00:00, 717.98it/s]\n",
      "100%|██████████| 14/14 [00:00<00:00, 553.53it/s]\n",
      "100%|██████████| 1168/1168 [00:01<00:00, 596.91it/s]\n",
      "100%|██████████| 267/267 [00:00<00:00, 584.75it/s]\n",
      "100%|██████████| 5264/5264 [00:09<00:00, 579.09it/s]\n",
      "100%|██████████| 142/142 [00:00<00:00, 616.65it/s]\n",
      "100%|██████████| 245/245 [00:00<00:00, 609.22it/s]\n",
      "100%|██████████| 215/215 [00:00<00:00, 630.53it/s]\n",
      "100%|██████████| 121/121 [00:00<00:00, 573.41it/s]\n",
      "100%|██████████| 547/547 [00:00<00:00, 597.77it/s]\n",
      "100%|██████████| 656/656 [00:01<00:00, 603.37it/s]\n",
      "100%|██████████| 55/55 [00:00<00:00, 585.95it/s]\n",
      "100%|██████████| 459/459 [00:00<00:00, 590.11it/s]\n",
      "100%|██████████| 228/228 [00:00<00:00, 600.59it/s]\n",
      "100%|██████████| 877/877 [00:01<00:00, 600.19it/s]\n",
      "100%|██████████| 1856/1856 [00:03<00:00, 585.13it/s]\n",
      "100%|██████████| 313/313 [00:00<00:00, 605.74it/s]\n",
      "100%|██████████| 663/663 [00:01<00:00, 605.00it/s]\n",
      "100%|██████████| 2363/2363 [00:03<00:00, 591.73it/s]\n",
      "100%|██████████| 594/594 [00:00<00:00, 594.40it/s]\n",
      "100%|██████████| 257/257 [00:00<00:00, 582.82it/s]\n",
      "100%|██████████| 443/443 [00:00<00:00, 610.22it/s]\n",
      "100%|██████████| 277/277 [00:00<00:00, 594.08it/s]\n",
      "100%|██████████| 1045/1045 [00:01<00:00, 604.73it/s]\n",
      "100%|██████████| 109/109 [00:00<00:00, 601.52it/s]\n",
      "100%|██████████| 83/83 [00:00<00:00, 636.38it/s]\n",
      "100%|██████████| 458/458 [00:00<00:00, 604.90it/s]\n",
      "100%|██████████| 1553/1553 [00:02<00:00, 619.36it/s]\n",
      "100%|██████████| 406/406 [00:00<00:00, 606.98it/s]\n",
      "100%|██████████| 96/96 [00:00<00:00, 661.92it/s]\n",
      "100%|██████████| 1305/1305 [00:02<00:00, 587.67it/s]\n",
      "100%|██████████| 83/83 [00:00<00:00, 573.06it/s]\n",
      "100%|██████████| 199/199 [00:00<00:00, 367.80it/s]\n",
      "100%|██████████| 183/183 [00:00<00:00, 579.13it/s]\n",
      "100%|██████████| 89/89 [00:00<00:00, 545.39it/s]\n",
      "100%|██████████| 195/195 [00:00<00:00, 623.58it/s]\n",
      "100%|██████████| 163/163 [00:00<00:00, 569.40it/s]\n",
      "100%|██████████| 131/131 [00:00<00:00, 591.71it/s]\n",
      "100%|██████████| 198/198 [00:00<00:00, 576.27it/s]\n",
      "100%|██████████| 200/200 [00:00<00:00, 586.25it/s]\n",
      "100%|██████████| 200/200 [00:00<00:00, 583.77it/s]\n",
      "100%|██████████| 189/189 [00:00<00:00, 575.34it/s]\n",
      "100%|██████████| 184/184 [00:00<00:00, 569.43it/s]\n",
      "100%|██████████| 196/196 [00:00<00:00, 606.71it/s]\n",
      "100%|██████████| 197/197 [00:00<00:00, 553.40it/s]\n",
      "100%|██████████| 186/186 [00:00<00:00, 561.81it/s]\n",
      "100%|██████████| 189/189 [00:00<00:00, 572.21it/s]\n",
      "100%|██████████| 193/193 [00:00<00:00, 614.69it/s]\n",
      "100%|██████████| 194/194 [00:00<00:00, 615.15it/s]\n",
      "100%|██████████| 196/196 [00:00<00:00, 663.35it/s]\n",
      "100%|██████████| 200/200 [00:00<00:00, 595.74it/s]\n",
      "100%|██████████| 125/125 [00:00<00:00, 569.00it/s]\n",
      "100%|██████████| 146/146 [00:00<00:00, 569.49it/s]\n",
      "100%|██████████| 194/194 [00:00<00:00, 555.05it/s]\n",
      "100%|██████████| 132/132 [00:00<00:00, 701.12it/s]\n",
      "100%|██████████| 200/200 [00:00<00:00, 618.23it/s]\n",
      "100%|██████████| 200/200 [00:00<00:00, 582.85it/s]\n",
      "100%|██████████| 192/192 [00:00<00:00, 556.82it/s]\n",
      "100%|██████████| 200/200 [00:00<00:00, 613.62it/s]\n",
      "100%|██████████| 195/195 [00:00<00:00, 637.75it/s]\n",
      "0it [00:00, ?it/s]\n",
      "100%|██████████| 200/200 [00:00<00:00, 571.68it/s]\n",
      "100%|██████████| 161/161 [00:00<00:00, 603.87it/s]\n",
      "100%|██████████| 188/188 [00:00<00:00, 585.07it/s]\n",
      "100%|██████████| 179/179 [00:00<00:00, 609.60it/s]\n",
      "100%|██████████| 200/200 [00:00<00:00, 573.73it/s]\n",
      "100%|██████████| 144/144 [00:00<00:00, 627.51it/s]\n",
      "100%|██████████| 175/175 [00:00<00:00, 559.78it/s]\n",
      "100%|██████████| 200/200 [00:00<00:00, 567.18it/s]\n",
      "100%|██████████| 190/190 [00:00<00:00, 638.99it/s]\n",
      "100%|██████████| 197/197 [00:00<00:00, 581.40it/s]\n",
      "0it [00:00, ?it/s]\n",
      "100%|██████████| 179/179 [00:00<00:00, 586.29it/s]\n",
      "100%|██████████| 154/154 [00:00<00:00, 602.45it/s]\n",
      "100%|██████████| 198/198 [00:00<00:00, 642.36it/s]\n",
      "100%|██████████| 200/200 [00:00<00:00, 569.09it/s]\n",
      "100%|██████████| 198/198 [00:00<00:00, 611.39it/s]\n",
      "100%|██████████| 189/189 [00:00<00:00, 572.48it/s]\n",
      "100%|██████████| 147/147 [00:00<00:00, 592.96it/s]\n",
      "100%|██████████| 200/200 [00:00<00:00, 580.22it/s]\n",
      "100%|██████████| 63/63 [00:00<00:00, 660.69it/s]\n",
      "100%|██████████| 200/200 [00:00<00:00, 606.17it/s]\n",
      "100%|██████████| 197/197 [00:00<00:00, 628.79it/s]\n",
      "100%|██████████| 197/197 [00:00<00:00, 579.33it/s]\n",
      "100%|██████████| 55/55 [00:00<00:00, 649.22it/s]\n",
      "100%|██████████| 55/55 [00:00<00:00, 528.23it/s]\n",
      "100%|██████████| 55/55 [00:00<00:00, 599.75it/s]\n",
      "100%|██████████| 55/55 [00:00<00:00, 519.14it/s]\n",
      "100%|██████████| 55/55 [00:00<00:00, 598.19it/s]\n",
      "100%|██████████| 55/55 [00:00<00:00, 651.18it/s]\n",
      "100%|██████████| 55/55 [00:00<00:00, 551.07it/s]\n",
      "100%|██████████| 55/55 [00:00<00:00, 629.00it/s]\n",
      "100%|██████████| 55/55 [00:00<00:00, 836.27it/s]\n",
      "100%|██████████| 55/55 [00:00<00:00, 599.86it/s]\n",
      "100%|██████████| 55/55 [00:00<00:00, 623.63it/s]\n",
      "100%|██████████| 55/55 [00:00<00:00, 590.02it/s]\n",
      "100%|██████████| 55/55 [00:00<00:00, 690.04it/s]\n",
      "100%|██████████| 55/55 [00:00<00:00, 556.55it/s]\n",
      "100%|██████████| 55/55 [00:00<00:00, 664.35it/s]\n",
      "100%|██████████| 55/55 [00:00<00:00, 555.81it/s]\n",
      "100%|██████████| 55/55 [00:00<00:00, 637.10it/s]\n",
      "100%|██████████| 55/55 [00:00<00:00, 612.99it/s]\n",
      "100%|██████████| 55/55 [00:00<00:00, 782.22it/s]\n",
      "100%|██████████| 55/55 [00:00<00:00, 568.64it/s]\n",
      "100%|██████████| 55/55 [00:00<00:00, 704.74it/s]\n",
      "100%|██████████| 55/55 [00:00<00:00, 669.91it/s]\n",
      "100%|██████████| 55/55 [00:00<00:00, 593.02it/s]\n",
      "100%|██████████| 55/55 [00:00<00:00, 584.65it/s]\n",
      "100%|██████████| 55/55 [00:00<00:00, 507.58it/s]\n",
      "100%|██████████| 55/55 [00:00<00:00, 478.21it/s]\n",
      "100%|██████████| 55/55 [00:00<00:00, 579.94it/s]\n",
      "100%|██████████| 55/55 [00:00<00:00, 548.12it/s]\n",
      "100%|██████████| 55/55 [00:00<00:00, 588.65it/s]\n",
      "100%|██████████| 55/55 [00:00<00:00, 600.92it/s]\n",
      "100%|██████████| 55/55 [00:00<00:00, 458.62it/s]\n",
      "100%|██████████| 55/55 [00:00<00:00, 591.74it/s]\n",
      "100%|██████████| 55/55 [00:00<00:00, 723.13it/s]\n",
      "100%|██████████| 55/55 [00:00<00:00, 580.54it/s]\n",
      "100%|██████████| 55/55 [00:00<00:00, 622.45it/s]\n",
      "100%|██████████| 55/55 [00:00<00:00, 690.91it/s]\n",
      "100%|██████████| 55/55 [00:00<00:00, 603.49it/s]\n",
      "100%|██████████| 55/55 [00:00<00:00, 639.21it/s]\n",
      "100%|██████████| 55/55 [00:00<00:00, 668.41it/s]\n",
      "100%|██████████| 55/55 [00:00<00:00, 624.00it/s]\n",
      "100%|██████████| 55/55 [00:00<00:00, 641.69it/s]\n",
      "100%|██████████| 55/55 [00:00<00:00, 662.20it/s]\n",
      "100%|██████████| 55/55 [00:00<00:00, 577.41it/s]\n",
      "100%|██████████| 55/55 [00:00<00:00, 783.32it/s]\n",
      "100%|██████████| 55/55 [00:00<00:00, 549.96it/s]\n",
      "100%|██████████| 55/55 [00:00<00:00, 753.65it/s]\n",
      "100%|██████████| 55/55 [00:00<00:00, 722.32it/s]\n",
      "100%|██████████| 55/55 [00:00<00:00, 648.07it/s]\n",
      "100%|██████████| 55/55 [00:00<00:00, 601.70it/s]\n",
      "100%|██████████| 55/55 [00:00<00:00, 567.95it/s]\n",
      "100%|██████████| 55/55 [00:00<00:00, 610.01it/s]\n",
      "100%|██████████| 55/55 [00:00<00:00, 754.71it/s]\n",
      "100%|██████████| 55/55 [00:00<00:00, 630.84it/s]\n",
      "100%|██████████| 55/55 [00:00<00:00, 683.00it/s]\n",
      "100%|██████████| 55/55 [00:00<00:00, 641.97it/s]\n",
      "100%|██████████| 55/55 [00:00<00:00, 564.36it/s]\n",
      "100%|██████████| 55/55 [00:00<00:00, 376.99it/s]\n",
      "100%|██████████| 55/55 [00:00<00:00, 547.36it/s]\n",
      "100%|██████████| 55/55 [00:00<00:00, 649.84it/s]\n",
      "100%|██████████| 55/55 [00:00<00:00, 517.01it/s]\n",
      "100%|██████████| 55/55 [00:00<00:00, 563.52it/s]\n",
      "100%|██████████| 55/55 [00:00<00:00, 759.64it/s]\n",
      "100%|██████████| 261/261 [00:00<00:00, 569.08it/s]\n",
      "100%|██████████| 271/271 [00:00<00:00, 648.93it/s]\n",
      "100%|██████████| 239/239 [00:00<00:00, 576.08it/s]\n",
      "100%|██████████| 270/270 [00:00<00:00, 611.84it/s]\n"
     ]
    },
    {
     "name": "stderr",
     "output_type": "stream",
     "text": [
      "100%|██████████| 296/296 [00:00<00:00, 628.51it/s]\n",
      "100%|██████████| 495/495 [00:00<00:00, 581.30it/s]\n",
      "100%|██████████| 232/232 [00:00<00:00, 657.71it/s]\n",
      "100%|██████████| 257/257 [00:00<00:00, 566.94it/s]\n",
      "100%|██████████| 258/258 [00:00<00:00, 620.00it/s]\n",
      "100%|██████████| 263/263 [00:00<00:00, 612.68it/s]\n",
      "100%|██████████| 526/526 [00:00<00:00, 584.18it/s]\n",
      "100%|██████████| 523/523 [00:00<00:00, 609.24it/s]\n",
      "100%|██████████| 371/371 [00:00<00:00, 630.73it/s]\n",
      "100%|██████████| 453/453 [00:00<00:00, 620.36it/s]\n",
      "100%|██████████| 265/265 [00:00<00:00, 593.36it/s]\n",
      "100%|██████████| 266/266 [00:00<00:00, 327.50it/s]\n",
      "100%|██████████| 264/264 [00:00<00:00, 552.99it/s]\n",
      "100%|██████████| 214/214 [00:00<00:00, 595.82it/s]\n",
      "100%|██████████| 331/331 [00:00<00:00, 605.39it/s]\n",
      "100%|██████████| 445/445 [00:00<00:00, 574.30it/s]\n",
      "100%|██████████| 274/274 [00:00<00:00, 655.82it/s]\n",
      "100%|██████████| 279/279 [00:00<00:00, 697.65it/s]\n",
      "100%|██████████| 316/316 [00:00<00:00, 568.65it/s]\n",
      "100%|██████████| 271/271 [00:00<00:00, 581.35it/s]\n",
      "100%|██████████| 267/267 [00:00<00:00, 548.15it/s]\n",
      "100%|██████████| 260/260 [00:00<00:00, 590.23it/s]\n",
      "100%|██████████| 252/252 [00:00<00:00, 559.41it/s]\n",
      "100%|██████████| 188/188 [00:00<00:00, 647.04it/s]\n",
      "100%|██████████| 174/174 [00:00<00:00, 596.74it/s]\n",
      "100%|██████████| 226/226 [00:00<00:00, 569.79it/s]\n",
      "100%|██████████| 266/266 [00:00<00:00, 594.13it/s]\n",
      "100%|██████████| 265/265 [00:00<00:00, 576.03it/s]\n",
      "100%|██████████| 252/252 [00:00<00:00, 570.04it/s]\n",
      "100%|██████████| 258/258 [00:00<00:00, 625.11it/s]\n",
      "100%|██████████| 270/270 [00:00<00:00, 565.09it/s]\n",
      "100%|██████████| 265/265 [00:00<00:00, 616.64it/s]\n",
      "100%|██████████| 205/205 [00:00<00:00, 647.17it/s]\n",
      "100%|██████████| 228/228 [00:00<00:00, 618.00it/s]\n",
      "100%|██████████| 254/254 [00:00<00:00, 589.71it/s]\n",
      "100%|██████████| 60/60 [00:00<00:00, 614.35it/s]\n",
      "100%|██████████| 272/272 [00:00<00:00, 629.50it/s]\n",
      "100%|██████████| 144/144 [00:00<00:00, 563.10it/s]\n",
      "100%|██████████| 265/265 [00:00<00:00, 575.91it/s]\n",
      "100%|██████████| 273/273 [00:00<00:00, 595.81it/s]\n",
      "100%|██████████| 154/154 [00:00<00:00, 640.09it/s]\n",
      "100%|██████████| 327/327 [00:00<00:00, 588.08it/s]\n",
      "100%|██████████| 233/233 [00:00<00:00, 568.54it/s]\n",
      "100%|██████████| 77/77 [00:00<00:00, 673.67it/s]\n",
      "100%|██████████| 232/232 [00:00<00:00, 438.67it/s]\n"
     ]
    }
   ],
   "source": [
    "for dataset in os.listdir('Dataset/'):\n",
    "    if dataset == '.DS_Store':\n",
    "        continue\n",
    "    for directory in os.listdir('Dataset/' + dataset):\n",
    "        if directory == '.DS_Store':\n",
    "            continue\n",
    "        if not os.path.exists(FINAL + directory):\n",
    "            os.mkdir(FINAL + directory)\n",
    "        for char_type in os.listdir('Dataset/' + dataset + '/' + directory):\n",
    "            if char_type == '.DS_Store':\n",
    "                continue\n",
    "            if not os.path.exists(FINAL + '/' + directory + '/' + char_type):\n",
    "                os.mkdir(FINAL + '/' + directory + '/' + char_type)\n",
    "            for image in tqdm(os.listdir('Dataset/' + dataset + '/' + directory + '/' + char_type)):\n",
    "                if image == '.DS_Store':\n",
    "                    continue\n",
    "                img = cv2.imread('Dataset/' + dataset + '/' + directory + '/' + char_type + '/' + image, 0)\n",
    "                thresh = cv2.threshold(img, 150, 255, cv2.THRESH_BINARY)[1]\n",
    "                border = cv2.copyMakeBorder(thresh, 2, 2, 2, 2, cv2.BORDER_CONSTANT, None, 0)\n",
    "                cv2.imwrite(FINAL + directory + '/' + char_type.replace('_','') + '/' + str(total) + '.jpg', border)\n",
    "                total += 1"
   ]
  },
  {
   "cell_type": "code",
   "execution_count": 4,
   "metadata": {
    "ExecuteTime": {
     "end_time": "2019-08-04T17:24:38.116870Z",
     "start_time": "2019-08-04T17:24:38.076668Z"
    }
   },
   "outputs": [
    {
     "data": {
      "text/plain": [
       "320875"
      ]
     },
     "execution_count": 4,
     "metadata": {},
     "output_type": "execute_result"
    }
   ],
   "source": [
    "total"
   ]
  },
  {
   "cell_type": "code",
   "execution_count": 10,
   "metadata": {
    "ExecuteTime": {
     "end_time": "2019-08-04T17:32:57.560101Z",
     "start_time": "2019-08-04T17:32:57.013835Z"
    }
   },
   "outputs": [
    {
     "name": "stdout",
     "output_type": "stream",
     "text": [
      "************** numbers Characters **************\n",
      "9 = 1882\n",
      "0 = 2653\n",
      "7 = 1920\n",
      "6 = 2002\n",
      "1 = 1943\n",
      "8 = 1896\n",
      "4 = 2766\n",
      "3 = 3496\n",
      "2 = 6569\n",
      "5 = 2109\n",
      "************** upper Characters **************\n",
      "R = 14821\n",
      "U = 9893\n",
      "I = 17881\n",
      "N = 16634\n",
      "G = 5458\n",
      "Z = 4256\n",
      "T = 9560\n",
      "S = 9995\n",
      "A = 24036\n",
      "F = 3424\n",
      "O = 14381\n",
      "H = 6492\n",
      "M = 9361\n",
      "J = 3359\n",
      "C = 9099\n",
      "D = 7212\n",
      "V = 4692\n",
      "Q = 2175\n",
      "X = 8499\n",
      "E = 22785\n",
      "B = 6072\n",
      "K = 3156\n",
      "L = 15387\n",
      "Y = 5269\n",
      "P = 5136\n",
      "W = 2276\n",
      "************** lower Characters **************\n",
      "r = 2024\n",
      "u = 1729\n",
      "i = 2154\n",
      "n = 3390\n",
      "g = 1900\n",
      "z = 1313\n",
      "t = 2233\n",
      "s = 1318\n",
      "a = 3886\n",
      "f = 2177\n",
      "o = 1300\n",
      "h = 1851\n",
      "m = 2054\n",
      "j = 1612\n",
      "c = 1525\n",
      "d = 2619\n",
      "v = 1486\n",
      "q = 1684\n",
      "x = 1485\n",
      "e = 2014\n",
      "b = 3106\n",
      "k = 1926\n",
      "l = 1575\n",
      "y = 2879\n",
      "p = 1412\n",
      "w = 1677\n"
     ]
    }
   ],
   "source": [
    "for char_type in os.listdir('final/'):\n",
    "    if char_type == '.DS_Store':\n",
    "        continue\n",
    "    print(\"************** {} Characters **************\".format(char_type))\n",
    "    for character in os.listdir('final/' + char_type):\n",
    "        if character == '.DS_Store':\n",
    "            continue\n",
    "        print('{} = {}'.format(character, str(len(os.listdir('final/' + char_type + '/' + character)))))"
   ]
  },
  {
   "cell_type": "code",
   "execution_count": 22,
   "metadata": {
    "ExecuteTime": {
     "end_time": "2019-08-06T16:42:06.508640Z",
     "start_time": "2019-08-06T16:42:04.906895Z"
    }
   },
   "outputs": [
    {
     "data": {
      "image/png": "[encoded data removed]",
      "text/plain": [
       "<Figure size 432x288 with 1 Axes>"
      ]
     },
     "metadata": {
      "needs_background": "light"
     },
     "output_type": "display_data"
    },
    {
     "data": {
      "image/png": "[encoded data removed]",
      "text/plain": [
       "<Figure size 432x288 with 1 Axes>"
      ]
     },
     "metadata": {
      "needs_background": "light"
     },
     "output_type": "display_data"
    },
    {
     "data": {
      "image/png": "[encoded data removed]",
      "text/plain": [
       "<Figure size 432x288 with 1 Axes>"
      ]
     },
     "metadata": {
      "needs_background": "light"
     },
     "output_type": "display_data"
    }
   ],
   "source": [
    "for char_type in os.listdir('/Users/praneet/Downloads/final/'):\n",
    "    if char_type == '.DS_Store':\n",
    "        continue\n",
    "    x = []\n",
    "    y = []\n",
    "    for characters in os.listdir('/Users/praneet/Downloads/final/' + char_type):\n",
    "        if characters == '.DS_Store':\n",
    "            continue\n",
    "        y.append(len(os.listdir('/Users/praneet/Downloads/final/' + char_type + '/' + characters)))\n",
    "        x.append(characters)\n",
    "    plt.bar(x, y, align='center')\n",
    "    plt.xlabel(char_type)\n",
    "    plt.ylabel('Images')\n",
    "    plt.show()"
   ]
  },
  {
   "cell_type": "code",
   "execution_count": 6,
   "metadata": {
    "ExecuteTime": {
     "end_time": "2019-08-06T16:31:09.309538Z",
     "start_time": "2019-08-06T16:31:08.690702Z"
    }
   },
   "outputs": [],
   "source": [
    "import matplotlib.pyplot as plt\n",
    "%matplotlib inline"
   ]
  },
  {
   "cell_type": "code",
   "execution_count": 23,
   "metadata": {
    "ExecuteTime": {
     "end_time": "2019-08-06T17:00:13.373690Z",
     "start_time": "2019-08-06T17:00:13.142323Z"
    }
   },
   "outputs": [
    {
     "data": {
      "image/png": "[encoded data removed]",
      "text/plain": [
       "<Figure size 432x288 with 1 Axes>"
      ]
     },
     "metadata": {
      "needs_background": "light"
     },
     "output_type": "display_data"
    }
   ],
   "source": [
    "x_axis = ['9', '0', '7', '6', '1', '8', '4', '3', '2', '5']\n",
    "y_axis = [1882, 2653, 1920, 2002, 1943, 1896, 2766, 3496, 6569, 2109]\n",
    "\n",
    "# plt.hist()\n",
    "plt.bar(x_axis, y_axis, align='center')\n",
    "plt.xlabel('Characters')\n",
    "plt.ylabel('Images')\n",
    "plt.show()"
   ]
  },
  {
   "cell_type": "code",
   "execution_count": null,
   "metadata": {},
   "outputs": [],
   "source": []
  }
 ],
 "metadata": {
  "kernelspec": {
   "display_name": "Python 3",
   "language": "python",
   "name": "python3"
  },
  "language_info": {
   "codemirror_mode": {
    "name": "ipython",
    "version": 3
   },
   "file_extension": ".py",
   "mimetype": "text/x-python",
   "name": "python",
   "nbconvert_exporter": "python",
   "pygments_lexer": "ipython3",
   "version": "3.5.6"
  },
  "varInspector": {
   "cols": {
    "lenName": 16,
    "lenType": 16,
    "lenVar": 40
   },
   "kernels_config": {
    "python": {
     "delete_cmd_postfix": "",
     "delete_cmd_prefix": "del ",
     "library": "var_list.py",
     "varRefreshCmd": "print(var_dic_list())"
    },
    "r": {
     "delete_cmd_postfix": ") ",
     "delete_cmd_prefix": "rm(",
     "library": "var_list.r",
     "varRefreshCmd": "cat(var_dic_list()) "
    }
   },
   "types_to_exclude": [
    "module",
    "function",
    "builtin_function_or_method",
    "instance",
    "_Feature"
   ],
   "window_display": false
  }
 },
 "nbformat": 4,
 "nbformat_minor": 2
}
